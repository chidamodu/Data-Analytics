{
 "cells": [
  {
   "cell_type": "code",
   "execution_count": null,
   "metadata": {},
   "outputs": [],
   "source": [
    "Your company is running a test that is designed to compare two different versions of the company’s website.\n",
    "\n",
    "Version A of the website is shown to 60% of users, while version B of the website is shown to the remaining 40%.\n",
    "The test shows that 8% of users who are presented with version A sign up for the company’s services, as compared to\n",
    "4% of users who are presented with version B.\n",
    "\n",
    "If a user signs up for the company’s services, what is the probability that she/he was presented with version A of\n",
    "the website?\n",
    "\n",
    "1. calculate the total sign up percentage (8% * 60)+(4% * 40) assuming the total number as 100\n",
    "2. out of the total signup calculate what would be the percentage if signed up who are presented with version A (8% * 60)\n",
    "\n",
    "\n",
    "\n",
    "answer: 75%"
   ]
  },
  {
   "cell_type": "code",
   "execution_count": null,
   "metadata": {},
   "outputs": [],
   "source": [
    "You are given a list of tickers and their daily closing prices for a given period.\n",
    "\n",
    "Implement the most_corr function that, when given each ticker daily closing prices, returns the pair of tickers that \n",
    "are the most highly (linearly) correlated by daily percentage change.\n",
    "\n",
    "\n",
    "import pandas as pd\n",
    "import numpy as np\n",
    "\n",
    "def most_corr(prices):\n",
    "    \"\"\"\n",
    "    :param prices: (pandas.DataFrame) A dataframe containing each ticker's \n",
    "                   daily closing prices.\n",
    "    :returns: (container of strings) A container, containing the two tickers that \n",
    "              are the most highly (linearly) correlated by daily percentage change.\n",
    "    \"\"\"\n",
    "    return None\n",
    "\n",
    "#For example, the code below should print: ('FB', 'MSFT')\n",
    "print(most_corr(pd.DataFrame.from_dict({\n",
    "    'GOOG' : [\n",
    "        742.66, 738.40, 738.22, 741.16,\n",
    "        739.98, 747.28, 746.22, 741.80,\n",
    "        745.33, 741.29, 742.83, 750.50\n",
    "    ],\n",
    "    'FB' : [\n",
    "        108.40, 107.92, 109.64, 112.22,\n",
    "        109.57, 113.82, 114.03, 112.24,\n",
    "        114.68, 112.92, 113.28, 115.40\n",
    "    ],\n",
    "    'MSFT' : [\n",
    "        55.40, 54.63, 54.98, 55.88,\n",
    "        54.12, 59.16, 58.14, 55.97,\n",
    "        61.20, 57.14, 56.62, 59.25\n",
    "    ],\n",
    "    'AAPL' : [\n",
    "        106.00, 104.66, 104.87, 105.69,\n",
    "        104.22, 110.16, 109.84, 108.86,\n",
    "        110.14, 107.66, 108.08, 109.90\n",
    "    ]\n",
    "})))"
   ]
  },
  {
   "cell_type": "code",
   "execution_count": 2,
   "metadata": {},
   "outputs": [],
   "source": [
    "import pandas as pd\n",
    "df=pd.DataFrame.from_dict({\n",
    "    'GOOG' : [\n",
    "        742.66, 738.40, 738.22, 741.16,\n",
    "        739.98, 747.28, 746.22, 741.80,\n",
    "        745.33, 741.29, 742.83, 750.50\n",
    "    ],\n",
    "    'FB' : [\n",
    "        108.40, 107.92, 109.64, 112.22,\n",
    "        109.57, 113.82, 114.03, 112.24,\n",
    "        114.68, 112.92, 113.28, 115.40\n",
    "    ],\n",
    "    'MSFT' : [\n",
    "        55.40, 54.63, 54.98, 55.88,\n",
    "        54.12, 59.16, 58.14, 55.97,\n",
    "        61.20, 57.14, 56.62, 59.25\n",
    "    ],\n",
    "    'AAPL' : [\n",
    "        106.00, 104.66, 104.87, 105.69,\n",
    "        104.22, 110.16, 109.84, 108.86,\n",
    "        110.14, 107.66, 108.08, 109.90\n",
    "    ]\n",
    "})"
   ]
  },
  {
   "cell_type": "code",
   "execution_count": 3,
   "metadata": {},
   "outputs": [
    {
     "data": {
      "text/html": [
       "<div>\n",
       "<style scoped>\n",
       "    .dataframe tbody tr th:only-of-type {\n",
       "        vertical-align: middle;\n",
       "    }\n",
       "\n",
       "    .dataframe tbody tr th {\n",
       "        vertical-align: top;\n",
       "    }\n",
       "\n",
       "    .dataframe thead th {\n",
       "        text-align: right;\n",
       "    }\n",
       "</style>\n",
       "<table border=\"1\" class=\"dataframe\">\n",
       "  <thead>\n",
       "    <tr style=\"text-align: right;\">\n",
       "      <th></th>\n",
       "      <th>GOOG</th>\n",
       "      <th>FB</th>\n",
       "      <th>MSFT</th>\n",
       "      <th>AAPL</th>\n",
       "    </tr>\n",
       "  </thead>\n",
       "  <tbody>\n",
       "    <tr>\n",
       "      <td>GOOG</td>\n",
       "      <td>1.000000</td>\n",
       "      <td>0.799421</td>\n",
       "      <td>0.820544</td>\n",
       "      <td>0.853015</td>\n",
       "    </tr>\n",
       "    <tr>\n",
       "      <td>FB</td>\n",
       "      <td>0.799421</td>\n",
       "      <td>1.000000</td>\n",
       "      <td>0.858784</td>\n",
       "      <td>0.886750</td>\n",
       "    </tr>\n",
       "    <tr>\n",
       "      <td>MSFT</td>\n",
       "      <td>0.820544</td>\n",
       "      <td>0.858784</td>\n",
       "      <td>1.000000</td>\n",
       "      <td>0.894846</td>\n",
       "    </tr>\n",
       "    <tr>\n",
       "      <td>AAPL</td>\n",
       "      <td>0.853015</td>\n",
       "      <td>0.886750</td>\n",
       "      <td>0.894846</td>\n",
       "      <td>1.000000</td>\n",
       "    </tr>\n",
       "  </tbody>\n",
       "</table>\n",
       "</div>"
      ],
      "text/plain": [
       "          GOOG        FB      MSFT      AAPL\n",
       "GOOG  1.000000  0.799421  0.820544  0.853015\n",
       "FB    0.799421  1.000000  0.858784  0.886750\n",
       "MSFT  0.820544  0.858784  1.000000  0.894846\n",
       "AAPL  0.853015  0.886750  0.894846  1.000000"
      ]
     },
     "execution_count": 3,
     "metadata": {},
     "output_type": "execute_result"
    }
   ],
   "source": [
    "df.corr()"
   ]
  },
  {
   "cell_type": "code",
   "execution_count": 5,
   "metadata": {},
   "outputs": [
    {
     "data": {
      "text/html": [
       "<div>\n",
       "<style scoped>\n",
       "    .dataframe tbody tr th:only-of-type {\n",
       "        vertical-align: middle;\n",
       "    }\n",
       "\n",
       "    .dataframe tbody tr th {\n",
       "        vertical-align: top;\n",
       "    }\n",
       "\n",
       "    .dataframe thead th {\n",
       "        text-align: right;\n",
       "    }\n",
       "</style>\n",
       "<table border=\"1\" class=\"dataframe\">\n",
       "  <thead>\n",
       "    <tr style=\"text-align: right;\">\n",
       "      <th></th>\n",
       "      <th>GOOG</th>\n",
       "      <th>FB</th>\n",
       "      <th>MSFT</th>\n",
       "      <th>AAPL</th>\n",
       "    </tr>\n",
       "  </thead>\n",
       "  <tbody>\n",
       "    <tr>\n",
       "      <td>0</td>\n",
       "      <td>NaN</td>\n",
       "      <td>-0.854038</td>\n",
       "      <td>-0.488930</td>\n",
       "      <td>0.913357</td>\n",
       "    </tr>\n",
       "    <tr>\n",
       "      <td>1</td>\n",
       "      <td>NaN</td>\n",
       "      <td>-0.853846</td>\n",
       "      <td>-0.493792</td>\n",
       "      <td>0.915797</td>\n",
       "    </tr>\n",
       "    <tr>\n",
       "      <td>2</td>\n",
       "      <td>NaN</td>\n",
       "      <td>-0.851481</td>\n",
       "      <td>-0.498541</td>\n",
       "      <td>0.907421</td>\n",
       "    </tr>\n",
       "    <tr>\n",
       "      <td>3</td>\n",
       "      <td>NaN</td>\n",
       "      <td>-0.848589</td>\n",
       "      <td>-0.502050</td>\n",
       "      <td>0.891374</td>\n",
       "    </tr>\n",
       "    <tr>\n",
       "      <td>4</td>\n",
       "      <td>NaN</td>\n",
       "      <td>-0.851928</td>\n",
       "      <td>-0.506069</td>\n",
       "      <td>0.925721</td>\n",
       "    </tr>\n",
       "    <tr>\n",
       "      <td>5</td>\n",
       "      <td>NaN</td>\n",
       "      <td>-0.847688</td>\n",
       "      <td>-0.480232</td>\n",
       "      <td>0.862069</td>\n",
       "    </tr>\n",
       "    <tr>\n",
       "      <td>6</td>\n",
       "      <td>NaN</td>\n",
       "      <td>-0.847190</td>\n",
       "      <td>-0.490134</td>\n",
       "      <td>0.889233</td>\n",
       "    </tr>\n",
       "    <tr>\n",
       "      <td>7</td>\n",
       "      <td>NaN</td>\n",
       "      <td>-0.848692</td>\n",
       "      <td>-0.501336</td>\n",
       "      <td>0.944971</td>\n",
       "    </tr>\n",
       "    <tr>\n",
       "      <td>8</td>\n",
       "      <td>NaN</td>\n",
       "      <td>-0.846135</td>\n",
       "      <td>-0.466341</td>\n",
       "      <td>0.799673</td>\n",
       "    </tr>\n",
       "    <tr>\n",
       "      <td>9</td>\n",
       "      <td>NaN</td>\n",
       "      <td>-0.847671</td>\n",
       "      <td>-0.493978</td>\n",
       "      <td>0.884144</td>\n",
       "    </tr>\n",
       "    <tr>\n",
       "      <td>10</td>\n",
       "      <td>NaN</td>\n",
       "      <td>-0.847502</td>\n",
       "      <td>-0.500177</td>\n",
       "      <td>0.908866</td>\n",
       "    </tr>\n",
       "    <tr>\n",
       "      <td>11</td>\n",
       "      <td>NaN</td>\n",
       "      <td>-0.846236</td>\n",
       "      <td>-0.486568</td>\n",
       "      <td>0.854852</td>\n",
       "    </tr>\n",
       "  </tbody>\n",
       "</table>\n",
       "</div>"
      ],
      "text/plain": [
       "    GOOG        FB      MSFT      AAPL\n",
       "0    NaN -0.854038 -0.488930  0.913357\n",
       "1    NaN -0.853846 -0.493792  0.915797\n",
       "2    NaN -0.851481 -0.498541  0.907421\n",
       "3    NaN -0.848589 -0.502050  0.891374\n",
       "4    NaN -0.851928 -0.506069  0.925721\n",
       "5    NaN -0.847688 -0.480232  0.862069\n",
       "6    NaN -0.847190 -0.490134  0.889233\n",
       "7    NaN -0.848692 -0.501336  0.944971\n",
       "8    NaN -0.846135 -0.466341  0.799673\n",
       "9    NaN -0.847671 -0.493978  0.884144\n",
       "10   NaN -0.847502 -0.500177  0.908866\n",
       "11   NaN -0.846236 -0.486568  0.854852"
      ]
     },
     "execution_count": 5,
     "metadata": {},
     "output_type": "execute_result"
    }
   ],
   "source": [
    "df.pct_change(axis='columns')"
   ]
  },
  {
   "cell_type": "code",
   "execution_count": 17,
   "metadata": {},
   "outputs": [
    {
     "data": {
      "text/html": [
       "<div>\n",
       "<style scoped>\n",
       "    .dataframe tbody tr th:only-of-type {\n",
       "        vertical-align: middle;\n",
       "    }\n",
       "\n",
       "    .dataframe tbody tr th {\n",
       "        vertical-align: top;\n",
       "    }\n",
       "\n",
       "    .dataframe thead th {\n",
       "        text-align: right;\n",
       "    }\n",
       "</style>\n",
       "<table border=\"1\" class=\"dataframe\">\n",
       "  <thead>\n",
       "    <tr style=\"text-align: right;\">\n",
       "      <th></th>\n",
       "      <th>GOOG</th>\n",
       "      <th>FB</th>\n",
       "      <th>MSFT</th>\n",
       "      <th>AAPL</th>\n",
       "    </tr>\n",
       "  </thead>\n",
       "  <tbody>\n",
       "    <tr>\n",
       "      <td>0</td>\n",
       "      <td>NaN</td>\n",
       "      <td>NaN</td>\n",
       "      <td>NaN</td>\n",
       "      <td>NaN</td>\n",
       "    </tr>\n",
       "    <tr>\n",
       "      <td>1</td>\n",
       "      <td>-0.005736</td>\n",
       "      <td>-0.004428</td>\n",
       "      <td>-0.013899</td>\n",
       "      <td>-0.012642</td>\n",
       "    </tr>\n",
       "    <tr>\n",
       "      <td>2</td>\n",
       "      <td>-0.000244</td>\n",
       "      <td>0.015938</td>\n",
       "      <td>0.006407</td>\n",
       "      <td>0.002006</td>\n",
       "    </tr>\n",
       "    <tr>\n",
       "      <td>3</td>\n",
       "      <td>0.003983</td>\n",
       "      <td>0.023532</td>\n",
       "      <td>0.016370</td>\n",
       "      <td>0.007819</td>\n",
       "    </tr>\n",
       "    <tr>\n",
       "      <td>4</td>\n",
       "      <td>-0.001592</td>\n",
       "      <td>-0.023614</td>\n",
       "      <td>-0.031496</td>\n",
       "      <td>-0.013909</td>\n",
       "    </tr>\n",
       "    <tr>\n",
       "      <td>5</td>\n",
       "      <td>0.009865</td>\n",
       "      <td>0.038788</td>\n",
       "      <td>0.093126</td>\n",
       "      <td>0.056995</td>\n",
       "    </tr>\n",
       "    <tr>\n",
       "      <td>6</td>\n",
       "      <td>-0.001418</td>\n",
       "      <td>0.001845</td>\n",
       "      <td>-0.017241</td>\n",
       "      <td>-0.002905</td>\n",
       "    </tr>\n",
       "    <tr>\n",
       "      <td>7</td>\n",
       "      <td>-0.005923</td>\n",
       "      <td>-0.015698</td>\n",
       "      <td>-0.037324</td>\n",
       "      <td>-0.008922</td>\n",
       "    </tr>\n",
       "    <tr>\n",
       "      <td>8</td>\n",
       "      <td>0.004759</td>\n",
       "      <td>0.021739</td>\n",
       "      <td>0.093443</td>\n",
       "      <td>0.011758</td>\n",
       "    </tr>\n",
       "    <tr>\n",
       "      <td>9</td>\n",
       "      <td>-0.005420</td>\n",
       "      <td>-0.015347</td>\n",
       "      <td>-0.066340</td>\n",
       "      <td>-0.022517</td>\n",
       "    </tr>\n",
       "    <tr>\n",
       "      <td>10</td>\n",
       "      <td>0.002077</td>\n",
       "      <td>0.003188</td>\n",
       "      <td>-0.009100</td>\n",
       "      <td>0.003901</td>\n",
       "    </tr>\n",
       "    <tr>\n",
       "      <td>11</td>\n",
       "      <td>0.010325</td>\n",
       "      <td>0.018715</td>\n",
       "      <td>0.046450</td>\n",
       "      <td>0.016839</td>\n",
       "    </tr>\n",
       "  </tbody>\n",
       "</table>\n",
       "</div>"
      ],
      "text/plain": [
       "        GOOG        FB      MSFT      AAPL\n",
       "0        NaN       NaN       NaN       NaN\n",
       "1  -0.005736 -0.004428 -0.013899 -0.012642\n",
       "2  -0.000244  0.015938  0.006407  0.002006\n",
       "3   0.003983  0.023532  0.016370  0.007819\n",
       "4  -0.001592 -0.023614 -0.031496 -0.013909\n",
       "5   0.009865  0.038788  0.093126  0.056995\n",
       "6  -0.001418  0.001845 -0.017241 -0.002905\n",
       "7  -0.005923 -0.015698 -0.037324 -0.008922\n",
       "8   0.004759  0.021739  0.093443  0.011758\n",
       "9  -0.005420 -0.015347 -0.066340 -0.022517\n",
       "10  0.002077  0.003188 -0.009100  0.003901\n",
       "11  0.010325  0.018715  0.046450  0.016839"
      ]
     },
     "execution_count": 17,
     "metadata": {},
     "output_type": "execute_result"
    }
   ],
   "source": [
    "df.pct_change()"
   ]
  },
  {
   "cell_type": "code",
   "execution_count": 22,
   "metadata": {},
   "outputs": [
    {
     "data": {
      "text/html": [
       "<div>\n",
       "<style scoped>\n",
       "    .dataframe tbody tr th:only-of-type {\n",
       "        vertical-align: middle;\n",
       "    }\n",
       "\n",
       "    .dataframe tbody tr th {\n",
       "        vertical-align: top;\n",
       "    }\n",
       "\n",
       "    .dataframe thead th {\n",
       "        text-align: right;\n",
       "    }\n",
       "</style>\n",
       "<table border=\"1\" class=\"dataframe\">\n",
       "  <thead>\n",
       "    <tr style=\"text-align: right;\">\n",
       "      <th></th>\n",
       "      <th>GOOG</th>\n",
       "      <th>FB</th>\n",
       "      <th>MSFT</th>\n",
       "      <th>AAPL</th>\n",
       "    </tr>\n",
       "  </thead>\n",
       "  <tbody>\n",
       "    <tr>\n",
       "      <td>GOOG</td>\n",
       "      <td>1.000000</td>\n",
       "      <td>0.834381</td>\n",
       "      <td>0.847520</td>\n",
       "      <td>0.858727</td>\n",
       "    </tr>\n",
       "    <tr>\n",
       "      <td>FB</td>\n",
       "      <td>0.834381</td>\n",
       "      <td>1.000000</td>\n",
       "      <td>0.878943</td>\n",
       "      <td>0.872889</td>\n",
       "    </tr>\n",
       "    <tr>\n",
       "      <td>MSFT</td>\n",
       "      <td>0.847520</td>\n",
       "      <td>0.878943</td>\n",
       "      <td>1.000000</td>\n",
       "      <td>0.861793</td>\n",
       "    </tr>\n",
       "    <tr>\n",
       "      <td>AAPL</td>\n",
       "      <td>0.858727</td>\n",
       "      <td>0.872889</td>\n",
       "      <td>0.861793</td>\n",
       "      <td>1.000000</td>\n",
       "    </tr>\n",
       "  </tbody>\n",
       "</table>\n",
       "</div>"
      ],
      "text/plain": [
       "          GOOG        FB      MSFT      AAPL\n",
       "GOOG  1.000000  0.834381  0.847520  0.858727\n",
       "FB    0.834381  1.000000  0.878943  0.872889\n",
       "MSFT  0.847520  0.878943  1.000000  0.861793\n",
       "AAPL  0.858727  0.872889  0.861793  1.000000"
      ]
     },
     "execution_count": 22,
     "metadata": {},
     "output_type": "execute_result"
    }
   ],
   "source": [
    "df = df.pct_change()\n",
    "df.corr()"
   ]
  },
  {
   "cell_type": "code",
   "execution_count": 23,
   "metadata": {},
   "outputs": [
    {
     "data": {
      "text/plain": [
       "AAPL    1.000000\n",
       "FB      0.872889\n",
       "Name: AAPL, dtype: float64"
      ]
     },
     "execution_count": 23,
     "metadata": {},
     "output_type": "execute_result"
    }
   ],
   "source": [
    "df.corr()['AAPL'].nlargest(2)"
   ]
  },
  {
   "cell_type": "code",
   "execution_count": 24,
   "metadata": {},
   "outputs": [
    {
     "data": {
      "text/plain": [
       "FB      1.000000\n",
       "MSFT    0.878943\n",
       "Name: FB, dtype: float64"
      ]
     },
     "execution_count": 24,
     "metadata": {},
     "output_type": "execute_result"
    }
   ],
   "source": [
    "df.corr()['FB'].nlargest(2)"
   ]
  },
  {
   "cell_type": "code",
   "execution_count": 25,
   "metadata": {},
   "outputs": [
    {
     "data": {
      "text/plain": [
       "MSFT    1.000000\n",
       "FB      0.878943\n",
       "Name: MSFT, dtype: float64"
      ]
     },
     "execution_count": 25,
     "metadata": {},
     "output_type": "execute_result"
    }
   ],
   "source": [
    "df.corr()['MSFT'].nlargest(2)"
   ]
  },
  {
   "cell_type": "code",
   "execution_count": 26,
   "metadata": {},
   "outputs": [
    {
     "data": {
      "text/plain": [
       "GOOG    1.000000\n",
       "AAPL    0.858727\n",
       "Name: GOOG, dtype: float64"
      ]
     },
     "execution_count": 26,
     "metadata": {},
     "output_type": "execute_result"
    }
   ],
   "source": [
    "df.corr()['GOOG'].nlargest(2)"
   ]
  },
  {
   "cell_type": "code",
   "execution_count": 31,
   "metadata": {},
   "outputs": [
    {
     "data": {
      "text/html": [
       "<div>\n",
       "<style scoped>\n",
       "    .dataframe tbody tr th:only-of-type {\n",
       "        vertical-align: middle;\n",
       "    }\n",
       "\n",
       "    .dataframe tbody tr th {\n",
       "        vertical-align: top;\n",
       "    }\n",
       "\n",
       "    .dataframe thead th {\n",
       "        text-align: right;\n",
       "    }\n",
       "</style>\n",
       "<table border=\"1\" class=\"dataframe\">\n",
       "  <thead>\n",
       "    <tr style=\"text-align: right;\">\n",
       "      <th></th>\n",
       "      <th>GOOG</th>\n",
       "      <th>FB</th>\n",
       "      <th>MSFT</th>\n",
       "      <th>AAPL</th>\n",
       "    </tr>\n",
       "  </thead>\n",
       "  <tbody>\n",
       "    <tr>\n",
       "      <td>GOOG</td>\n",
       "      <td>1.000000</td>\n",
       "      <td>0.834381</td>\n",
       "      <td>0.847520</td>\n",
       "      <td>0.858727</td>\n",
       "    </tr>\n",
       "    <tr>\n",
       "      <td>AAPL</td>\n",
       "      <td>0.858727</td>\n",
       "      <td>0.872889</td>\n",
       "      <td>0.861793</td>\n",
       "      <td>1.000000</td>\n",
       "    </tr>\n",
       "  </tbody>\n",
       "</table>\n",
       "</div>"
      ],
      "text/plain": [
       "          GOOG        FB      MSFT      AAPL\n",
       "GOOG  1.000000  0.834381  0.847520  0.858727\n",
       "AAPL  0.858727  0.872889  0.861793  1.000000"
      ]
     },
     "execution_count": 31,
     "metadata": {},
     "output_type": "execute_result"
    }
   ],
   "source": [
    "df.corr().nlargest(2, df.columns, keep='all')"
   ]
  },
  {
   "cell_type": "code",
   "execution_count": 80,
   "metadata": {},
   "outputs": [],
   "source": [
    "import pandas as pd\n",
    "def most_corr(prices):\n",
    "    d={}\n",
    "    df = prices\n",
    "    df = df.pct_change()\n",
    "    df.corr()\n",
    "    l=df.columns.tolist()\n",
    "    for c in range(len(l)-1):\n",
    "        res=df[l[c]].corr(df[l[c+1]])\n",
    "        d[round(res, 3)]=[l[c], l[c+1]]\n",
    "\n",
    "    max_value = max(d)\n",
    "    return d[max(d)]\n",
    "    "
   ]
  },
  {
   "cell_type": "code",
   "execution_count": 81,
   "metadata": {},
   "outputs": [
    {
     "data": {
      "text/plain": [
       "['FB', 'MSFT']"
      ]
     },
     "execution_count": 81,
     "metadata": {},
     "output_type": "execute_result"
    }
   ],
   "source": [
    "most_corr(pd.DataFrame.from_dict({\n",
    "    'GOOG' : [\n",
    "        742.66, 738.40, 738.22, 741.16,\n",
    "        739.98, 747.28, 746.22, 741.80,\n",
    "        745.33, 741.29, 742.83, 750.50\n",
    "    ],\n",
    "    'FB' : [\n",
    "        108.40, 107.92, 109.64, 112.22,\n",
    "        109.57, 113.82, 114.03, 112.24,\n",
    "        114.68, 112.92, 113.28, 115.40\n",
    "    ],\n",
    "    'MSFT' : [\n",
    "        55.40, 54.63, 54.98, 55.88,\n",
    "        54.12, 59.16, 58.14, 55.97,\n",
    "        61.20, 57.14, 56.62, 59.25\n",
    "    ],\n",
    "    'AAPL' : [\n",
    "        106.00, 104.66, 104.87, 105.69,\n",
    "        104.22, 110.16, 109.84, 108.86,\n",
    "        110.14, 107.66, 108.08, 109.90\n",
    "    ]\n",
    "}))"
   ]
  },
  {
   "cell_type": "code",
   "execution_count": 32,
   "metadata": {},
   "outputs": [],
   "source": [
    "import numpy as np\n",
    "\n",
    "# Create correlation matrix\n",
    "corr_matrix = df.corr().abs()\n",
    "\n",
    "# Select upper triangle of correlation matrix\n",
    "upper = corr_matrix.where(np.triu(np.ones(corr_matrix.shape), k=1).astype(np.bool))\n",
    "\n"
   ]
  },
  {
   "cell_type": "code",
   "execution_count": 36,
   "metadata": {
    "scrolled": true
   },
   "outputs": [
    {
     "data": {
      "text/html": [
       "<div>\n",
       "<style scoped>\n",
       "    .dataframe tbody tr th:only-of-type {\n",
       "        vertical-align: middle;\n",
       "    }\n",
       "\n",
       "    .dataframe tbody tr th {\n",
       "        vertical-align: top;\n",
       "    }\n",
       "\n",
       "    .dataframe thead th {\n",
       "        text-align: right;\n",
       "    }\n",
       "</style>\n",
       "<table border=\"1\" class=\"dataframe\">\n",
       "  <thead>\n",
       "    <tr style=\"text-align: right;\">\n",
       "      <th></th>\n",
       "      <th>GOOG</th>\n",
       "      <th>FB</th>\n",
       "      <th>MSFT</th>\n",
       "      <th>AAPL</th>\n",
       "    </tr>\n",
       "  </thead>\n",
       "  <tbody>\n",
       "    <tr>\n",
       "      <td>GOOG</td>\n",
       "      <td>NaN</td>\n",
       "      <td>0.834381</td>\n",
       "      <td>0.847520</td>\n",
       "      <td>0.858727</td>\n",
       "    </tr>\n",
       "    <tr>\n",
       "      <td>FB</td>\n",
       "      <td>NaN</td>\n",
       "      <td>NaN</td>\n",
       "      <td>0.878943</td>\n",
       "      <td>0.872889</td>\n",
       "    </tr>\n",
       "    <tr>\n",
       "      <td>MSFT</td>\n",
       "      <td>NaN</td>\n",
       "      <td>NaN</td>\n",
       "      <td>NaN</td>\n",
       "      <td>0.861793</td>\n",
       "    </tr>\n",
       "    <tr>\n",
       "      <td>AAPL</td>\n",
       "      <td>NaN</td>\n",
       "      <td>NaN</td>\n",
       "      <td>NaN</td>\n",
       "      <td>NaN</td>\n",
       "    </tr>\n",
       "  </tbody>\n",
       "</table>\n",
       "</div>"
      ],
      "text/plain": [
       "      GOOG        FB      MSFT      AAPL\n",
       "GOOG   NaN  0.834381  0.847520  0.858727\n",
       "FB     NaN       NaN  0.878943  0.872889\n",
       "MSFT   NaN       NaN       NaN  0.861793\n",
       "AAPL   NaN       NaN       NaN       NaN"
      ]
     },
     "execution_count": 36,
     "metadata": {},
     "output_type": "execute_result"
    }
   ],
   "source": [
    "upper"
   ]
  },
  {
   "cell_type": "code",
   "execution_count": 46,
   "metadata": {},
   "outputs": [],
   "source": [
    "l=df.columns.tolist()"
   ]
  },
  {
   "cell_type": "code",
   "execution_count": 66,
   "metadata": {},
   "outputs": [
    {
     "data": {
      "text/plain": [
       "['FB', 'MSFT']"
      ]
     },
     "execution_count": 66,
     "metadata": {},
     "output_type": "execute_result"
    }
   ],
   "source": [
    "\n",
    "d={}\n",
    "for c in range(len(l)-1):\n",
    "    res=df[l[c]].corr(df[l[c+1]])\n",
    "    d[round(res, 3)]=[l[c], l[c+1]]\n",
    "    \n",
    "# for k, v in d.items():\n",
    "max_value = max(d)\n",
    "d[max_value]\n",
    "    \n",
    "#     max_val = [ for k, v in dic.items() if v == max_value]\n",
    "#     if max(d):\n",
    "#         print(v)\n",
    "    \n",
    "#     df[df[c].corr(df['B'])\n",
    "    \n",
    "\n",
    "\n"
   ]
  },
  {
   "cell_type": "code",
   "execution_count": 45,
   "metadata": {},
   "outputs": [
    {
     "data": {
      "text/plain": [
       "['GOOG', 'FB', 'MSFT', 'AAPL']"
      ]
     },
     "execution_count": 45,
     "metadata": {},
     "output_type": "execute_result"
    }
   ],
   "source": [
    "df.columns.tolist()"
   ]
  }
 ],
 "metadata": {
  "kernelspec": {
   "display_name": "Python 3",
   "language": "python",
   "name": "python3"
  },
  "language_info": {
   "codemirror_mode": {
    "name": "ipython",
    "version": 3
   },
   "file_extension": ".py",
   "mimetype": "text/x-python",
   "name": "python",
   "nbconvert_exporter": "python",
   "pygments_lexer": "ipython3",
   "version": "3.7.4"
  }
 },
 "nbformat": 4,
 "nbformat_minor": 2
}

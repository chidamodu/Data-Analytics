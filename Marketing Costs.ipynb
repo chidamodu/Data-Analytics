{
 "cells": [
  {
   "cell_type": "code",
   "execution_count": 1,
   "metadata": {},
   "outputs": [],
   "source": [
    "import numpy as np\n",
    "from sklearn.linear_model import LinearRegression\n"
   ]
  },
  {
   "cell_type": "code",
   "execution_count": 18,
   "metadata": {},
   "outputs": [],
   "source": [
    "y=np.array([300000, 200000, 400000, 300000, 100000])\n",
    "    \n",
    "    \n",
    "X=np.array([60000, 50000, 90000, 80000, 30000]).reshape(-1, 1)\n",
    "    "
   ]
  },
  {
   "cell_type": "code",
   "execution_count": 19,
   "metadata": {},
   "outputs": [],
   "source": [
    "reg = LinearRegression().fit(X, y)"
   ]
  },
  {
   "cell_type": "code",
   "execution_count": 20,
   "metadata": {},
   "outputs": [
    {
     "data": {
      "text/plain": [
       "array([4.56140351])"
      ]
     },
     "execution_count": 20,
     "metadata": {},
     "output_type": "execute_result"
    }
   ],
   "source": [
    "reg.coef_"
   ]
  },
  {
   "cell_type": "code",
   "execution_count": 22,
   "metadata": {},
   "outputs": [
    {
     "data": {
      "text/plain": [
       "array([250877.19298246])"
      ]
     },
     "execution_count": 22,
     "metadata": {},
     "output_type": "execute_result"
    }
   ],
   "source": [
    "reg.predict(np.array(60000).reshape(-1, 1))"
   ]
  },
  {
   "cell_type": "code",
   "execution_count": 24,
   "metadata": {},
   "outputs": [
    {
     "name": "stdout",
     "output_type": "stream",
     "text": [
      "250877\n"
     ]
    }
   ],
   "source": [
    "import numpy as np\n",
    "from sklearn import linear_model\n",
    "\n",
    "def desired_marketing_expenditure(marketing_expenditure, units_sold, desired_units_sold):\n",
    "    \"\"\"\n",
    "    :param marketing_expenditure: (list) A list of integers with the expenditure for each previous campaign.\n",
    "    :param units_sold: (list) A list of integers with the number of units sold for each previous campaign.\n",
    "    :param desired_units_sold: (integer) Target number of units to sell in the new campaign.\n",
    "    :returns: (float) Required amount of money to be invested.\n",
    "    \"\"\"\n",
    "    X=np.array(units_sold).reshape(-1, 1)\n",
    "    y=np.array(marketing_expenditure)\n",
    "    reg=LinearRegression().fit(X, y)\n",
    "    return int(reg.predict(np.array(60000).reshape(-1, 1)))\n",
    "\n",
    "#For example, with the parameters below, the function should return 250000.0\n",
    "print(desired_marketing_expenditure([300000, 200000, 400000, 300000, 100000],[60000, 50000, 90000, 80000, 30000],60000))"
   ]
  }
 ],
 "metadata": {
  "kernelspec": {
   "display_name": "Python 3",
   "language": "python",
   "name": "python3"
  },
  "language_info": {
   "codemirror_mode": {
    "name": "ipython",
    "version": 3
   },
   "file_extension": ".py",
   "mimetype": "text/x-python",
   "name": "python",
   "nbconvert_exporter": "python",
   "pygments_lexer": "ipython3",
   "version": "3.7.4"
  }
 },
 "nbformat": 4,
 "nbformat_minor": 2
}

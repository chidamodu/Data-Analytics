{
 "cells": [
  {
   "cell_type": "code",
   "execution_count": 23,
   "metadata": {},
   "outputs": [
    {
     "name": "stdout",
     "output_type": "stream",
     "text": [
      "   Id        Login   password\n",
      "0   1      JohnDoe  987340123\n",
      "1   2  AnnFranklin  187031122\n"
     ]
    }
   ],
   "source": [
    "import pandas as pd\n",
    "import numpy as np\n",
    "\n",
    "def login_table(id_name_verified, id_password):\n",
    "    \"\"\"\n",
    "    :param id_name_verified: (DataFrame) DataFrame with columns: Id, Login, Verified.   \n",
    "    :param id_password: (numpy.array) Two-dimensional NumPy array where each element\n",
    "                        is an array that contains: Id and Password\n",
    "    :returns: (None) The function should modify id_name_verified DataFrame in-place. \n",
    "              It should not return anything.\n",
    "    \"\"\"   \n",
    "    df2=pd.DataFrame(id_password)\n",
    "    df2.columns = ['Id', 'passwd']\n",
    "    \n",
    "#     id_name_verified.merge(df2, how=\"inner\", on='Id')\n",
    "    \n",
    "#     id_name_verified = pd.merge(id_name_verified, df2, on=id_name_verified.index, how='inner', suffix='password')\n",
    "    id_name_verified.drop(\"Verified\", axis=1, inplace=True)\n",
    "    id_name_verified['password']= df2['passwd']\n",
    "    \n",
    "    \n",
    "    \n",
    "\n",
    "\n",
    "\n",
    "id_name_verified = pd.DataFrame([[1, \"JohnDoe\", True], [2, \"AnnFranklin\", False]], columns=[\"Id\", \"Login\", \"Verified\"])\n",
    "id_password = np.array([[1, 987340123], [2, 187031122]], np.int32)\n",
    "login_table(id_name_verified, id_password)\n",
    "print(id_name_verified)"
   ]
  }
 ],
 "metadata": {
  "kernelspec": {
   "display_name": "Python 3",
   "language": "python",
   "name": "python3"
  },
  "language_info": {
   "codemirror_mode": {
    "name": "ipython",
    "version": 3
   },
   "file_extension": ".py",
   "mimetype": "text/x-python",
   "name": "python",
   "nbconvert_exporter": "python",
   "pygments_lexer": "ipython3",
   "version": "3.7.4"
  }
 },
 "nbformat": 4,
 "nbformat_minor": 2
}
